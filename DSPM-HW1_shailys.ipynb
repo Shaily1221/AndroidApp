{
 "cells": [
  {
   "cell_type": "code",
   "execution_count": 1,
   "id": "0e82b0dd",
   "metadata": {
    "scrolled": true
   },
   "outputs": [
    {
     "name": "stdout",
     "output_type": "stream",
     "text": [
      "              TransactionDate  CustomerID  Amount\n",
      "TransactionID                                    \n",
      "1                    9/4/2012           1   20.26\n",
      "2                   5/15/2012           2   10.87\n",
      "3                   5/23/2014           2    2.21\n",
      "4                  10/24/2014           2   10.48\n",
      "5                  10/13/2012           2    3.94\n",
      "...                       ...         ...     ...\n",
      "4182                6/23/2013        1000    3.86\n",
      "4183                 8/7/2011        1000    4.00\n",
      "4184                10/7/2012        1000   18.37\n",
      "4185                 1/9/2014        1000    3.45\n",
      "4186                4/30/2011        1000    5.18\n",
      "\n",
      "[4186 rows x 3 columns]\n",
      "TransactionDate     object\n",
      "CustomerID           int64\n",
      "Amount             float64\n",
      "dtype: object\n"
     ]
    }
   ],
   "source": [
    "# HW 1\n",
    "# Name: Shaily Shah\n",
    "# Andrew ID: shailys\n",
    "\n",
    "import pandas as pd\n",
    "import numpy as np\n",
    "import statistics as stat\n",
    "%matplotlib inline\n",
    "import matplotlib.pyplot as plt\n",
    "\n",
    "#Part 1 : Understand the Data\n",
    "clv_data = pd.read_csv(\"HW1 clv_transactions.csv\", sep = \",\", index_col='TransactionID')\n",
    "print(clv_data)\n",
    "print(clv_data.dtypes)"
   ]
  },
  {
   "cell_type": "code",
   "execution_count": 2,
   "id": "35e56373",
   "metadata": {
    "scrolled": false
   },
   "outputs": [
    {
     "name": "stdout",
     "output_type": "stream",
     "text": [
      "TransactionDate    0\n",
      "CustomerID         0\n",
      "Amount             0\n",
      "dtype: int64\n",
      "0\n",
      "False\n"
     ]
    }
   ],
   "source": [
    "# 1. Check for missing values\n",
    "print(clv_data.isnull().sum()) \n",
    "print(clv_data.isna().sum().sum())\n",
    "print(clv_data.isna().any().any())\n",
    "# There are no null values or missing values in the data. "
   ]
  },
  {
   "cell_type": "code",
   "execution_count": 3,
   "id": "7594e2eb",
   "metadata": {},
   "outputs": [
    {
     "name": "stdout",
     "output_type": "stream",
     "text": [
      "The dates range from 2010-01-04 to 2015-12-31 which is about a 5 year range.\n"
     ]
    }
   ],
   "source": [
    "# 2. Convert TransactionDate from object to datetime type without the timestamp and Check date range\n",
    "clv_data['Date'] = pd.to_datetime(clv_data['TransactionDate']).dt.date\n",
    "clv_data['Year'] = pd.to_datetime(clv_data['TransactionDate']).dt.year\n",
    "\n",
    "minDate = (clv_data['Date']).min()\n",
    "maxDate = (clv_data['Date']).max()\n",
    "print('The dates range from',minDate,'to',maxDate,'which is about a 5 year range.')"
   ]
  },
  {
   "cell_type": "code",
   "execution_count": 4,
   "id": "d795b5e9",
   "metadata": {},
   "outputs": [
    {
     "name": "stdout",
     "output_type": "stream",
     "text": [
      "Number of Unique Customers in database:  1000\n"
     ]
    }
   ],
   "source": [
    "# 3. Number of Unique Customers \n",
    "print(\"Number of Unique Customers in database: \", clv_data['CustomerID'].nunique())"
   ]
  },
  {
   "cell_type": "code",
   "execution_count": 5,
   "id": "78ebd7c5",
   "metadata": {},
   "outputs": [
    {
     "name": "stdout",
     "output_type": "stream",
     "text": [
      "           Amount\n",
      "min     -1.000000\n",
      "max   2033.000000\n",
      "mean     9.028082\n",
      "std     38.723909\n",
      "var   1499.541111\n"
     ]
    }
   ],
   "source": [
    "# 4. Summary Stats for Amount field\n",
    "print(clv_data.agg({\"Amount\": [\"min\", \"max\", \"mean\", \"std\", \"var\"]}))\n",
    "\n",
    "# The min is a negative value which seems wrong and the max is very high for having a very low mean."
   ]
  },
  {
   "cell_type": "code",
   "execution_count": 6,
   "id": "6424420a",
   "metadata": {},
   "outputs": [
    {
     "data": {
      "image/png": "[encoded data removed]",
      "text/plain": [
       "<Figure size 432x288 with 1 Axes>"
      ]
     },
     "metadata": {
      "needs_background": "light"
     },
     "output_type": "display_data"
    }
   ],
   "source": [
    "# 5. Look for inflation in Amount field\n",
    "#clv_data.sort_values(by=['TransactionDate'])\n",
    "clv_data.plot(x='Date',y='Amount')\n",
    "plt.ylim([0,50])\n",
    "plt.show()\n",
    "\n",
    "# There seems to be a slight increase in amount from 2011 to 2014 but not really a trend present in the Amount field."
   ]
  },
  {
   "cell_type": "code",
   "execution_count": 7,
   "id": "00d3f47f",
   "metadata": {},
   "outputs": [
    {
     "name": "stdout",
     "output_type": "stream",
     "text": [
      "              TransactionDate  CustomerID  Amount        Date  Year\n",
      "TransactionID                                                      \n",
      "24                  10/7/2011           7  1003.0  2011-10-07  2011\n",
      "212                 5/14/2014          54  1027.0  2014-05-14  2014\n",
      "4178                8/13/2012        1000  2033.0  2012-08-13  2012\n",
      "              TransactionDate  CustomerID  Amount        Date  Year\n",
      "TransactionID                                                      \n",
      "50                  5/12/2012          13    -1.0  2012-05-12  2012\n",
      "3327                1/16/2014         811    -1.0  2014-01-16  2014\n"
     ]
    }
   ],
   "source": [
    "# Looking at all customers who have amounts higher than 30 to see if it is the same customer. \n",
    "# 3 amounts are extremely high and seem like a mistake or data quality issue.\n",
    "print(clv_data[clv_data.Amount >= 50])\n",
    "\n",
    "# 2 amounts are below 0 which is not possible for a transaction as values should be positive.\n",
    "print(clv_data[clv_data.Amount < 0])"
   ]
  },
  {
   "cell_type": "code",
   "execution_count": 8,
   "id": "39bae772",
   "metadata": {
    "scrolled": true
   },
   "outputs": [
    {
     "data": {
      "text/plain": [
       "<AxesSubplot:>"
      ]
     },
     "execution_count": 8,
     "metadata": {},
     "output_type": "execute_result"
    },
    {
     "data": {
      "image/png": "[encoded data removed]",
      "text/plain": [
       "<Figure size 432x288 with 1 Axes>"
      ]
     },
     "metadata": {
      "needs_background": "light"
     },
     "output_type": "display_data"
    }
   ],
   "source": [
    "# Part 2 : Explore the Dataset\n",
    "\n",
    "#Checking for outliers\n",
    "clv_data.boxplot(['CustomerID','Amount'])"
   ]
  },
  {
   "cell_type": "code",
   "execution_count": 9,
   "id": "addc4b05",
   "metadata": {},
   "outputs": [],
   "source": [
    "# There seem to be abnormal amounts such as values above 100 and below 0. \n",
    "# 1. According to the histogram, 98% of the data has amounts lower than 100. So those values are the extreme outliers."
   ]
  },
  {
   "cell_type": "code",
   "execution_count": 10,
   "id": "447d4401",
   "metadata": {},
   "outputs": [
    {
     "data": {
      "text/plain": [
       "<AxesSubplot:ylabel='Frequency'>"
      ]
     },
     "execution_count": 10,
     "metadata": {},
     "output_type": "execute_result"
    },
    {
     "data": {
      "image/png": "[encoded data removed]",
      "text/plain": [
       "<Figure size 432x288 with 1 Axes>"
      ]
     },
     "metadata": {
      "needs_background": "light"
     },
     "output_type": "display_data"
    }
   ],
   "source": [
    "clv_data['Amount'].plot.hist(bins=20)"
   ]
  },
  {
   "cell_type": "code",
   "execution_count": 11,
   "id": "cd899284",
   "metadata": {},
   "outputs": [],
   "source": [
    "# for x in ['Amount']:\n",
    "#     q75,q25 = np.percentile(clv_data.loc[:,x],[75,25])\n",
    "#     intr_qr = q75-q25\n",
    " \n",
    "#     max = q75+(1.5*intr_qr)\n",
    "#     min = q25-(1.5*intr_qr)\n",
    "    \n",
    "#     if min < 0:\n",
    "#         min = 0\n",
    "        \n",
    "#     print('Min:', min)\n",
    "#     print('Max:', max)\n",
    " \n",
    "#     clv_data.loc[clv_data[x] < min,x] = np.nan\n",
    "#     clv_data.loc[clv_data[x] > max,x] = np.nan"
   ]
  },
  {
   "cell_type": "code",
   "execution_count": 12,
   "id": "025d4b06",
   "metadata": {},
   "outputs": [
    {
     "name": "stdout",
     "output_type": "stream",
     "text": [
      "Number of Outliers in the Data:\n",
      "--------------------------------\n",
      "TransactionDate    0\n",
      "CustomerID         0\n",
      "Amount             5\n",
      "Date               0\n",
      "Year               0\n",
      "dtype: int64\n",
      "\n",
      "Number of Outliers in the Data after removal:\n",
      "--------------------------------\n",
      "TransactionDate    0\n",
      "CustomerID         0\n",
      "Amount             0\n",
      "Date               0\n",
      "Year               0\n",
      "dtype: int64\n"
     ]
    },
    {
     "data": {
      "image/png": "[encoded data removed]",
      "text/plain": [
       "<Figure size 432x288 with 1 Axes>"
      ]
     },
     "metadata": {
      "needs_background": "light"
     },
     "output_type": "display_data"
    }
   ],
   "source": [
    "# 2. Treat outliers by changing their amount values to NA and dropping all NA values from the dataset.\n",
    "\n",
    "#Replace outliers with NA values\n",
    "for x in ['Amount']:\n",
    "    min = 0\n",
    "    max = 100\n",
    "    clv_data.loc[clv_data[x] < min,x] = np.nan\n",
    "    clv_data.loc[clv_data[x] > max,x] = np.nan \n",
    "\n",
    "#checking to see how many outliers there are in the data - 5 outliers\n",
    "print(\"Number of Outliers in the Data:\")\n",
    "print(\"--------------------------------\")\n",
    "print(clv_data.isnull().sum())\n",
    "clv_data.boxplot(['Amount'])\n",
    "\n",
    "#Remove outliers since its less than 1% of data values\n",
    "print(\"\\nNumber of Outliers in the Data after removal:\")\n",
    "print(\"--------------------------------\")\n",
    "clv_data = clv_data.dropna(axis=0)\n",
    "print(clv_data.isnull().sum())"
   ]
  },
  {
   "cell_type": "code",
   "execution_count": 13,
   "id": "5987d7e0",
   "metadata": {},
   "outputs": [
    {
     "data": {
      "text/html": [
       "<div>\n",
       "<style scoped>\n",
       "    .dataframe tbody tr th:only-of-type {\n",
       "        vertical-align: middle;\n",
       "    }\n",
       "\n",
       "    .dataframe tbody tr th {\n",
       "        vertical-align: top;\n",
       "    }\n",
       "\n",
       "    .dataframe thead th {\n",
       "        text-align: right;\n",
       "    }\n",
       "</style>\n",
       "<table border=\"1\" class=\"dataframe\">\n",
       "  <thead>\n",
       "    <tr style=\"text-align: right;\">\n",
       "      <th></th>\n",
       "      <th>Origin_Year</th>\n",
       "    </tr>\n",
       "    <tr>\n",
       "      <th>CustomerID</th>\n",
       "      <th></th>\n",
       "    </tr>\n",
       "  </thead>\n",
       "  <tbody>\n",
       "    <tr>\n",
       "      <th>1</th>\n",
       "      <td>2012</td>\n",
       "    </tr>\n",
       "    <tr>\n",
       "      <th>2</th>\n",
       "      <td>2012</td>\n",
       "    </tr>\n",
       "    <tr>\n",
       "      <th>3</th>\n",
       "      <td>2012</td>\n",
       "    </tr>\n",
       "    <tr>\n",
       "      <th>4</th>\n",
       "      <td>2015</td>\n",
       "    </tr>\n",
       "    <tr>\n",
       "      <th>5</th>\n",
       "      <td>2015</td>\n",
       "    </tr>\n",
       "    <tr>\n",
       "      <th>...</th>\n",
       "      <td>...</td>\n",
       "    </tr>\n",
       "    <tr>\n",
       "      <th>996</th>\n",
       "      <td>2012</td>\n",
       "    </tr>\n",
       "    <tr>\n",
       "      <th>997</th>\n",
       "      <td>2014</td>\n",
       "    </tr>\n",
       "    <tr>\n",
       "      <th>998</th>\n",
       "      <td>2010</td>\n",
       "    </tr>\n",
       "    <tr>\n",
       "      <th>999</th>\n",
       "      <td>2011</td>\n",
       "    </tr>\n",
       "    <tr>\n",
       "      <th>1000</th>\n",
       "      <td>2010</td>\n",
       "    </tr>\n",
       "  </tbody>\n",
       "</table>\n",
       "<p>1000 rows × 1 columns</p>\n",
       "</div>"
      ],
      "text/plain": [
       "            Origin_Year\n",
       "CustomerID             \n",
       "1                  2012\n",
       "2                  2012\n",
       "3                  2012\n",
       "4                  2015\n",
       "5                  2015\n",
       "...                 ...\n",
       "996                2012\n",
       "997                2014\n",
       "998                2010\n",
       "999                2011\n",
       "1000               2010\n",
       "\n",
       "[1000 rows x 1 columns]"
      ]
     },
     "execution_count": 13,
     "metadata": {},
     "output_type": "execute_result"
    }
   ],
   "source": [
    "# Part 3: Origin year of all customers\n",
    "customer_origin_year = clv_data.groupby(['CustomerID']).agg({'Year': 'min'})\n",
    "customer_origin_dict = customer_origin_year.to_dict()\n",
    "customer_origin_year.rename(columns = {'Year':'Origin_Year'}, inplace = True)\n",
    "\n",
    "#makes easier to use dict for Step 4\n",
    "customer_origin = {}\n",
    "for x,y in customer_origin_dict.items():\n",
    "    for i,j in y.items():\n",
    "        customer_origin[i] = j\n",
    "\n",
    "customer_origin_year"
   ]
  },
  {
   "cell_type": "code",
   "execution_count": 19,
   "id": "f07ae5d9",
   "metadata": {
    "scrolled": false
   },
   "outputs": [
    {
     "data": {
      "text/html": [
       "<div>\n",
       "<style scoped>\n",
       "    .dataframe tbody tr th:only-of-type {\n",
       "        vertical-align: middle;\n",
       "    }\n",
       "\n",
       "    .dataframe tbody tr th {\n",
       "        vertical-align: top;\n",
       "    }\n",
       "\n",
       "    .dataframe thead th {\n",
       "        text-align: right;\n",
       "    }\n",
       "</style>\n",
       "<table border=\"1\" class=\"dataframe\">\n",
       "  <thead>\n",
       "    <tr style=\"text-align: right;\">\n",
       "      <th></th>\n",
       "      <th>12</th>\n",
       "      <th>24</th>\n",
       "      <th>36</th>\n",
       "      <th>48</th>\n",
       "      <th>60</th>\n",
       "      <th>72</th>\n",
       "    </tr>\n",
       "    <tr>\n",
       "      <th>Origin</th>\n",
       "      <th></th>\n",
       "      <th></th>\n",
       "      <th></th>\n",
       "      <th></th>\n",
       "      <th></th>\n",
       "      <th></th>\n",
       "    </tr>\n",
       "  </thead>\n",
       "  <tbody>\n",
       "    <tr>\n",
       "      <th>2010-01-01 - 2010-12-31</th>\n",
       "      <td>2259.67</td>\n",
       "      <td>3614.78</td>\n",
       "      <td>5274.81</td>\n",
       "      <td>6632.37</td>\n",
       "      <td>7930.69</td>\n",
       "      <td>8964.49</td>\n",
       "    </tr>\n",
       "    <tr>\n",
       "      <th>2011-01-01 - 2011-12-31</th>\n",
       "      <td>2238.46</td>\n",
       "      <td>3757.90</td>\n",
       "      <td>5465.99</td>\n",
       "      <td>6703.11</td>\n",
       "      <td>7862.24</td>\n",
       "      <td>0.00</td>\n",
       "    </tr>\n",
       "    <tr>\n",
       "      <th>2012-01-01 - 2012-12-31</th>\n",
       "      <td>2181.35</td>\n",
       "      <td>3874.69</td>\n",
       "      <td>5226.86</td>\n",
       "      <td>6501.85</td>\n",
       "      <td>0.00</td>\n",
       "      <td>0.00</td>\n",
       "    </tr>\n",
       "    <tr>\n",
       "      <th>2013-01-01 - 2013-12-31</th>\n",
       "      <td>2179.85</td>\n",
       "      <td>3609.81</td>\n",
       "      <td>5227.75</td>\n",
       "      <td>0.00</td>\n",
       "      <td>0.00</td>\n",
       "      <td>0.00</td>\n",
       "    </tr>\n",
       "    <tr>\n",
       "      <th>2014-01-01 - 2014-12-31</th>\n",
       "      <td>1830.85</td>\n",
       "      <td>3262.05</td>\n",
       "      <td>0.00</td>\n",
       "      <td>0.00</td>\n",
       "      <td>0.00</td>\n",
       "      <td>0.00</td>\n",
       "    </tr>\n",
       "    <tr>\n",
       "      <th>2015-01-01 - 2015-12-31</th>\n",
       "      <td>1912.17</td>\n",
       "      <td>0.00</td>\n",
       "      <td>0.00</td>\n",
       "      <td>0.00</td>\n",
       "      <td>0.00</td>\n",
       "      <td>0.00</td>\n",
       "    </tr>\n",
       "  </tbody>\n",
       "</table>\n",
       "</div>"
      ],
      "text/plain": [
       "                              12       24       36       48       60       72\n",
       "Origin                                                                       \n",
       "2010-01-01 - 2010-12-31  2259.67  3614.78  5274.81  6632.37  7930.69  8964.49\n",
       "2011-01-01 - 2011-12-31  2238.46  3757.90  5465.99  6703.11  7862.24     0.00\n",
       "2012-01-01 - 2012-12-31  2181.35  3874.69  5226.86  6501.85     0.00     0.00\n",
       "2013-01-01 - 2013-12-31  2179.85  3609.81  5227.75     0.00     0.00     0.00\n",
       "2014-01-01 - 2014-12-31  1830.85  3262.05     0.00     0.00     0.00     0.00\n",
       "2015-01-01 - 2015-12-31  1912.17     0.00     0.00     0.00     0.00     0.00"
      ]
     },
     "execution_count": 19,
     "metadata": {},
     "output_type": "execute_result"
    }
   ],
   "source": [
    "# Part 4: Calculate cumulative transaction amounts\n",
    "\n",
    "cumulative_Amounts_yearly_perCustomer = clv_data.groupby(['Year','CustomerID'])[\"Amount\"].sum().to_dict()\n",
    "\n",
    "customersID_2010 = []\n",
    "customersID_2011 = []\n",
    "customersID_2012 = []\n",
    "customersID_2013 = []\n",
    "customersID_2014 = []\n",
    "customersID_2015 = []\n",
    "\n",
    "for x,y in customer_origin.items():\n",
    "    if y == 2015:\n",
    "        customersID_2015.append(x)\n",
    "    elif y == 2014:\n",
    "        customersID_2014.append(x)\n",
    "    elif y== 2013:\n",
    "        customersID_2013.append(x)\n",
    "    elif y == 2012:\n",
    "        customersID_2012.append(x)\n",
    "    elif y == 2011:\n",
    "        customersID_2011.append(x)\n",
    "    else:\n",
    "        customersID_2010.append(x)\n",
    "trans_amt = {}\n",
    "cum12,cum24,cum36,cum48,cum60,cum72=0,0,0,0,0,0\n",
    "\n",
    "#calculating original sum amount for each year for new customers only\n",
    "for x,y in cumulative_Amounts_yearly_perCustomer.items():\n",
    "    i,j = x[0],x[1]\n",
    "    if j in customersID_2010:\n",
    "        if i <= 2015:\n",
    "            cum72+=y\n",
    "        if i <= 2014:\n",
    "            cum60+=y\n",
    "        if i <= 2013:\n",
    "            cum48+=y    \n",
    "        if i <= 2012:\n",
    "            cum36+=y\n",
    "        if i <= 2011:\n",
    "            cum24+=y\n",
    "        if i <= 2010:\n",
    "            cum12+=y\n",
    "trans_amt['2010-01-01 - 2010-12-31'] = [cum12,cum24,cum36,cum48,cum60,cum72]\n",
    "\n",
    "cum12,cum24,cum36,cum48,cum60,cum72=0,0,0,0,0,0\n",
    "for x,y in cumulative_Amounts_yearly_perCustomer.items():\n",
    "    i,j = x[0],x[1]\n",
    "    if j in customersID_2011:\n",
    "        if i <= 2015:\n",
    "            cum60+=y\n",
    "        if i <= 2014:\n",
    "            cum48+=y\n",
    "        if i <= 2013:\n",
    "            cum36+=y    \n",
    "        if i <= 2012:\n",
    "            cum24+=y\n",
    "        if i <= 2011:\n",
    "            cum12+=y\n",
    "trans_amt['2011-01-01 - 2011-12-31'] = [cum12,cum24,cum36,cum48,cum60,cum72]\n",
    "            \n",
    "cum12,cum24,cum36,cum48,cum60,cum72=0,0,0,0,0,0\n",
    "for x,y in cumulative_Amounts_yearly_perCustomer.items():\n",
    "    i,j = x[0],x[1]\n",
    "    if j in customersID_2012:\n",
    "        if i <= 2015:\n",
    "            cum48+=y\n",
    "        if i <= 2014:\n",
    "            cum36+=y\n",
    "        if i <= 2013:\n",
    "            cum24+=y    \n",
    "        if i <= 2012:\n",
    "            cum12+=y\n",
    "trans_amt['2012-01-01 - 2012-12-31'] = [cum12,cum24,cum36,cum48,cum60,cum72]\n",
    "\n",
    "cum12,cum24,cum36,cum48,cum60,cum72=0,0,0,0,0,0\n",
    "for x,y in cumulative_Amounts_yearly_perCustomer.items():\n",
    "    i,j = x[0],x[1]\n",
    "    if j in customersID_2013:\n",
    "        if i <= 2015:\n",
    "            cum36+=y\n",
    "        if i <= 2014:\n",
    "            cum24+=y\n",
    "        if i <= 2013:\n",
    "            cum12+=y    \n",
    "trans_amt['2013-01-01 - 2013-12-31'] = [cum12,cum24,cum36,cum48,cum60,cum72]\n",
    "\n",
    "cum12,cum24,cum36,cum48,cum60,cum72=0,0,0,0,0,0\n",
    "for x,y in cumulative_Amounts_yearly_perCustomer.items():\n",
    "    i,j = x[0],x[1]\n",
    "    if j in customersID_2014:\n",
    "        if i <= 2015:\n",
    "            cum24+=y\n",
    "        if i <= 2014:\n",
    "            cum12+=y\n",
    "trans_amt['2014-01-01 - 2014-12-31'] = [cum12,cum24,cum36,cum48,cum60,cum72]\n",
    "\n",
    "cum12,cum24,cum36,cum48,cum60,cum72=0,0,0,0,0,0\n",
    "for x,y in cumulative_Amounts_yearly_perCustomer.items():\n",
    "    i,j = x[0],x[1]\n",
    "    if j in customersID_2015:\n",
    "        if i <= 2015:\n",
    "            cum12+=y\n",
    "\n",
    "trans_amt['2015-01-01 - 2015-12-31'] = [cum12,cum24,cum36,cum48,cum60,cum72]           \n",
    "\n",
    "# print(cum12,cum24,cum36,cum48,cum60,cum72)\n",
    "amount = pd.DataFrame(trans_amt,).from_dict(trans_amt,orient='index')\n",
    "amount = amount.rename(columns={0:'12', 1:'24',2:'36', 3:'48', 4:'60',5:'72'})\n",
    "amount.index.name = 'Origin'\n",
    "amount"
   ]
  },
  {
   "cell_type": "code",
   "execution_count": 15,
   "id": "ebdc414d",
   "metadata": {},
   "outputs": [
    {
     "data": {
      "text/html": [
       "<div>\n",
       "<style scoped>\n",
       "    .dataframe tbody tr th:only-of-type {\n",
       "        vertical-align: middle;\n",
       "    }\n",
       "\n",
       "    .dataframe tbody tr th {\n",
       "        vertical-align: top;\n",
       "    }\n",
       "\n",
       "    .dataframe thead th {\n",
       "        text-align: right;\n",
       "    }\n",
       "</style>\n",
       "<table border=\"1\" class=\"dataframe\">\n",
       "  <thead>\n",
       "    <tr style=\"text-align: right;\">\n",
       "      <th></th>\n",
       "      <th>12</th>\n",
       "      <th>24</th>\n",
       "      <th>36</th>\n",
       "      <th>48</th>\n",
       "      <th>60</th>\n",
       "      <th>72</th>\n",
       "    </tr>\n",
       "    <tr>\n",
       "      <th>Origin</th>\n",
       "      <th></th>\n",
       "      <th></th>\n",
       "      <th></th>\n",
       "      <th></th>\n",
       "      <th></th>\n",
       "      <th></th>\n",
       "    </tr>\n",
       "  </thead>\n",
       "  <tbody>\n",
       "    <tr>\n",
       "      <th>2010-01-01 - 2010-12-31</th>\n",
       "      <td>172</td>\n",
       "      <td>172</td>\n",
       "      <td>172</td>\n",
       "      <td>172</td>\n",
       "      <td>172</td>\n",
       "      <td>172</td>\n",
       "    </tr>\n",
       "    <tr>\n",
       "      <th>2011-01-01 - 2011-12-31</th>\n",
       "      <td>170</td>\n",
       "      <td>170</td>\n",
       "      <td>170</td>\n",
       "      <td>170</td>\n",
       "      <td>170</td>\n",
       "      <td>0</td>\n",
       "    </tr>\n",
       "    <tr>\n",
       "      <th>2012-01-01 - 2012-12-31</th>\n",
       "      <td>163</td>\n",
       "      <td>163</td>\n",
       "      <td>163</td>\n",
       "      <td>163</td>\n",
       "      <td>0</td>\n",
       "      <td>0</td>\n",
       "    </tr>\n",
       "    <tr>\n",
       "      <th>2013-01-01 - 2013-12-31</th>\n",
       "      <td>180</td>\n",
       "      <td>180</td>\n",
       "      <td>180</td>\n",
       "      <td>0</td>\n",
       "      <td>0</td>\n",
       "      <td>0</td>\n",
       "    </tr>\n",
       "    <tr>\n",
       "      <th>2014-01-01 - 2014-12-31</th>\n",
       "      <td>155</td>\n",
       "      <td>155</td>\n",
       "      <td>0</td>\n",
       "      <td>0</td>\n",
       "      <td>0</td>\n",
       "      <td>0</td>\n",
       "    </tr>\n",
       "    <tr>\n",
       "      <th>2015-01-01 - 2015-12-31</th>\n",
       "      <td>160</td>\n",
       "      <td>0</td>\n",
       "      <td>0</td>\n",
       "      <td>0</td>\n",
       "      <td>0</td>\n",
       "      <td>0</td>\n",
       "    </tr>\n",
       "  </tbody>\n",
       "</table>\n",
       "</div>"
      ],
      "text/plain": [
       "                          12   24   36   48   60   72\n",
       "Origin                                               \n",
       "2010-01-01 - 2010-12-31  172  172  172  172  172  172\n",
       "2011-01-01 - 2011-12-31  170  170  170  170  170    0\n",
       "2012-01-01 - 2012-12-31  163  163  163  163    0    0\n",
       "2013-01-01 - 2013-12-31  180  180  180    0    0    0\n",
       "2014-01-01 - 2014-12-31  155  155    0    0    0    0\n",
       "2015-01-01 - 2015-12-31  160    0    0    0    0    0"
      ]
     },
     "execution_count": 15,
     "metadata": {},
     "output_type": "execute_result"
    }
   ],
   "source": [
    "# Step 5: Number of new customers by origin year in each year\n",
    "cust2010,cust2011,cust2012,cust2013,cust2014,cust2015=0,0,0,0,0,0 \n",
    "for x,y in cumulative_Amounts_yearly_perCustomer.items():\n",
    "    i,j = x[0],x[1]\n",
    "    for k,l in customer_origin.items():\n",
    "        if ((i == 2010) and (j==k) and (i==l)):\n",
    "            cust2010+=1 \n",
    "        if ((i == 2011) and (j==k) and (i==l)):\n",
    "            cust2011+=1\n",
    "        if ((i == 2012) and (j==k) and (i==l)):\n",
    "            cust2012+=1\n",
    "        if ((i == 2013) and (j==k) and (i==l)):\n",
    "            cust2013+=1\n",
    "        if ((i == 2014) and (j==k) and (i==l)):\n",
    "            cust2014+=1\n",
    "        if ((i == 2015) and (j==k) and (i==l)):\n",
    "            cust2015+=1\n",
    "cust_amt = {'2010-01-01 - 2010-12-31': [cust2010,cust2010,cust2010,cust2010,cust2010,cust2010], \n",
    "                  '2011-01-01 - 2011-12-31':[cust2011,cust2011,cust2011,cust2011,cust2011,0], \n",
    "                  '2012-01-01 - 2012-12-31':[cust2012,cust2012,cust2012,cust2012,0,0],\n",
    "                  '2013-01-01 - 2013-12-31':[cust2013,cust2013,cust2013,0,0,0],\n",
    "                  '2014-01-01 - 2014-12-31':[cust2014,cust2014,0,0,0,0],\n",
    "                  '2015-01-01 - 2015-12-31':[cust2015,0,0,0,0,0]}\n",
    "newCustomers = pd.DataFrame(cust_amt).from_dict(cust_amt,orient='index')\n",
    "newCustomers = newCustomers.rename(columns={0:'12', 1:'24',2:'36', 3:'48', 4:'60',5:'72'})\n",
    "newCustomers.index.name = 'Origin'\n",
    "newCustomers"
   ]
  },
  {
   "cell_type": "code",
   "execution_count": 20,
   "id": "8df448d1",
   "metadata": {},
   "outputs": [
    {
     "data": {
      "text/html": [
       "<div>\n",
       "<style scoped>\n",
       "    .dataframe tbody tr th:only-of-type {\n",
       "        vertical-align: middle;\n",
       "    }\n",
       "\n",
       "    .dataframe tbody tr th {\n",
       "        vertical-align: top;\n",
       "    }\n",
       "\n",
       "    .dataframe thead th {\n",
       "        text-align: right;\n",
       "    }\n",
       "</style>\n",
       "<table border=\"1\" class=\"dataframe\">\n",
       "  <thead>\n",
       "    <tr style=\"text-align: right;\">\n",
       "      <th></th>\n",
       "      <th>12</th>\n",
       "      <th>24</th>\n",
       "      <th>36</th>\n",
       "      <th>48</th>\n",
       "      <th>60</th>\n",
       "      <th>72</th>\n",
       "    </tr>\n",
       "    <tr>\n",
       "      <th>Origin</th>\n",
       "      <th></th>\n",
       "      <th></th>\n",
       "      <th></th>\n",
       "      <th></th>\n",
       "      <th></th>\n",
       "      <th></th>\n",
       "    </tr>\n",
       "  </thead>\n",
       "  <tbody>\n",
       "    <tr>\n",
       "      <th>2010-01-01 - 2010-12-31</th>\n",
       "      <td>13.137616</td>\n",
       "      <td>21.016163</td>\n",
       "      <td>30.667500</td>\n",
       "      <td>38.560291</td>\n",
       "      <td>46.108663</td>\n",
       "      <td>52.119128</td>\n",
       "    </tr>\n",
       "    <tr>\n",
       "      <th>2011-01-01 - 2011-12-31</th>\n",
       "      <td>13.167412</td>\n",
       "      <td>22.105294</td>\n",
       "      <td>32.152882</td>\n",
       "      <td>39.430059</td>\n",
       "      <td>46.248471</td>\n",
       "      <td>NaN</td>\n",
       "    </tr>\n",
       "    <tr>\n",
       "      <th>2012-01-01 - 2012-12-31</th>\n",
       "      <td>13.382515</td>\n",
       "      <td>23.771104</td>\n",
       "      <td>32.066626</td>\n",
       "      <td>39.888650</td>\n",
       "      <td>NaN</td>\n",
       "      <td>NaN</td>\n",
       "    </tr>\n",
       "    <tr>\n",
       "      <th>2013-01-01 - 2013-12-31</th>\n",
       "      <td>12.110278</td>\n",
       "      <td>20.054500</td>\n",
       "      <td>29.043056</td>\n",
       "      <td>NaN</td>\n",
       "      <td>NaN</td>\n",
       "      <td>NaN</td>\n",
       "    </tr>\n",
       "    <tr>\n",
       "      <th>2014-01-01 - 2014-12-31</th>\n",
       "      <td>11.811935</td>\n",
       "      <td>21.045484</td>\n",
       "      <td>NaN</td>\n",
       "      <td>NaN</td>\n",
       "      <td>NaN</td>\n",
       "      <td>NaN</td>\n",
       "    </tr>\n",
       "    <tr>\n",
       "      <th>2015-01-01 - 2015-12-31</th>\n",
       "      <td>11.951063</td>\n",
       "      <td>NaN</td>\n",
       "      <td>NaN</td>\n",
       "      <td>NaN</td>\n",
       "      <td>NaN</td>\n",
       "      <td>NaN</td>\n",
       "    </tr>\n",
       "  </tbody>\n",
       "</table>\n",
       "</div>"
      ],
      "text/plain": [
       "                                12         24         36         48  \\\n",
       "Origin                                                                \n",
       "2010-01-01 - 2010-12-31  13.137616  21.016163  30.667500  38.560291   \n",
       "2011-01-01 - 2011-12-31  13.167412  22.105294  32.152882  39.430059   \n",
       "2012-01-01 - 2012-12-31  13.382515  23.771104  32.066626  39.888650   \n",
       "2013-01-01 - 2013-12-31  12.110278  20.054500  29.043056        NaN   \n",
       "2014-01-01 - 2014-12-31  11.811935  21.045484        NaN        NaN   \n",
       "2015-01-01 - 2015-12-31  11.951063        NaN        NaN        NaN   \n",
       "\n",
       "                                60         72  \n",
       "Origin                                         \n",
       "2010-01-01 - 2010-12-31  46.108663  52.119128  \n",
       "2011-01-01 - 2011-12-31  46.248471        NaN  \n",
       "2012-01-01 - 2012-12-31        NaN        NaN  \n",
       "2013-01-01 - 2013-12-31        NaN        NaN  \n",
       "2014-01-01 - 2014-12-31        NaN        NaN  \n",
       "2015-01-01 - 2015-12-31        NaN        NaN  "
      ]
     },
     "execution_count": 20,
     "metadata": {},
     "output_type": "execute_result"
    }
   ],
   "source": [
    "# Step 6: Calculate Historic CLV\n",
    "# annual measurements of the cumulative amount spent per customer in each group of annually acquired customers\n",
    "spent per customer in each group of annually acquired customers\n",
    "CLV = amount.div(newCustomers)\n",
    "CLV"
   ]
  },
  {
   "cell_type": "code",
   "execution_count": 24,
   "id": "4e0ffbb9",
   "metadata": {},
   "outputs": [
    {
     "data": {
      "text/plain": [
       "Text(0, 0.5, 'Historic CLV')"
      ]
     },
     "execution_count": 24,
     "metadata": {},
     "output_type": "execute_result"
    },
    {
     "data": {
      "image/png": "[encoded data removed]",
      "text/plain": [
       "<Figure size 432x288 with 1 Axes>"
      ]
     },
     "metadata": {
      "needs_background": "light"
     },
     "output_type": "display_data"
    }
   ],
   "source": [
    "CLV.transpose().plot.line()\n",
    "plt.title('Historic CLV Plot')\n",
    "plt.xlabel('Age')\n",
    "plt.ylabel('Historic CLV')"
   ]
  },
  {
   "cell_type": "code",
   "execution_count": 35,
   "id": "c978f6a5",
   "metadata": {},
   "outputs": [
    {
     "data": {
      "text/html": [
       "<div>\n",
       "<style scoped>\n",
       "    .dataframe tbody tr th:only-of-type {\n",
       "        vertical-align: middle;\n",
       "    }\n",
       "\n",
       "    .dataframe tbody tr th {\n",
       "        vertical-align: top;\n",
       "    }\n",
       "\n",
       "    .dataframe thead th {\n",
       "        text-align: right;\n",
       "    }\n",
       "</style>\n",
       "<table border=\"1\" class=\"dataframe\">\n",
       "  <thead>\n",
       "    <tr style=\"text-align: right;\">\n",
       "      <th></th>\n",
       "      <th>Age</th>\n",
       "      <th>HistoricCLV</th>\n",
       "    </tr>\n",
       "  </thead>\n",
       "  <tbody>\n",
       "    <tr>\n",
       "      <th>0</th>\n",
       "      <td>12</td>\n",
       "      <td>12.593470</td>\n",
       "    </tr>\n",
       "    <tr>\n",
       "      <th>1</th>\n",
       "      <td>24</td>\n",
       "      <td>21.598509</td>\n",
       "    </tr>\n",
       "    <tr>\n",
       "      <th>2</th>\n",
       "      <td>36</td>\n",
       "      <td>30.982516</td>\n",
       "    </tr>\n",
       "    <tr>\n",
       "      <th>3</th>\n",
       "      <td>48</td>\n",
       "      <td>39.293000</td>\n",
       "    </tr>\n",
       "    <tr>\n",
       "      <th>4</th>\n",
       "      <td>60</td>\n",
       "      <td>46.178567</td>\n",
       "    </tr>\n",
       "    <tr>\n",
       "      <th>5</th>\n",
       "      <td>72</td>\n",
       "      <td>52.119128</td>\n",
       "    </tr>\n",
       "  </tbody>\n",
       "</table>\n",
       "</div>"
      ],
      "text/plain": [
       "   Age  HistoricCLV\n",
       "0   12    12.593470\n",
       "1   24    21.598509\n",
       "2   36    30.982516\n",
       "3   48    39.293000\n",
       "4   60    46.178567\n",
       "5   72    52.119128"
      ]
     },
     "execution_count": 35,
     "metadata": {},
     "output_type": "execute_result"
    }
   ],
   "source": [
    "i=12\n",
    "single_CLV={}\n",
    "for x in CLV.iteritems():\n",
    "    single_CLV[i]=x[1].mean()\n",
    "    i+=12\n",
    "    \n",
    "pd.DataFrame(list(single_CLV.items()),columns = ['Age','HistoricCLV'])"
   ]
  },
  {
   "cell_type": "code",
   "execution_count": null,
   "id": "e101909c",
   "metadata": {},
   "outputs": [],
   "source": [
    "# Step 7: Interpreting your results\n",
    "# Historic CLV chart shows the average annual measurements of the cumulative amount spent for all groups depending\n",
    "# on customes' age. \n",
    "\n",
    "#Customers acquired in 2011 have spent about $7862.24 to date if you refer to step 5 chart.\n",
    "#Each group seems to exhibit a similar Historic CLV line. The implication behind this maybe that new customers tend\n",
    "# have less annual measurements compared to customers with a longer age. So long-standing consumers spend more frequently\n",
    "# compared to short-standing customers."
   ]
  }
 ],
 "metadata": {
  "kernelspec": {
   "display_name": "Python 3",
   "language": "python",
   "name": "python3"
  },
  "language_info": {
   "codemirror_mode": {
    "name": "ipython",
    "version": 3
   },
   "file_extension": ".py",
   "mimetype": "text/x-python",
   "name": "python",
   "nbconvert_exporter": "python",
   "pygments_lexer": "ipython3",
   "version": "3.8.8"
  }
 },
 "nbformat": 4,
 "nbformat_minor": 5
}
